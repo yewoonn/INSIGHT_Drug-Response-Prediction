{
 "cells": [
  {
   "cell_type": "markdown",
   "metadata": {},
   "source": [
    "### 버전 기록_ DUMMY\n",
    "- Model Baseline 코드 (2024.12.30)\n",
    "- Drug Graph, Drug Graph Embedding Block 추가 (2025.01.01)\n",
    "- Dummy Data로 교체 (25.01.02)\n",
    "- Train, Valid, Test 추가 (25.01.02)\n",
    "- Pathway Graph, Pathway Graph Embedding Block 추가 (2025.01.03)\n",
    "- 연산 최적화 (모델 내 for문 제거, 텐서 연산 활용) (2025.01.05)"
   ]
  },
  {
   "cell_type": "code",
   "execution_count": 5,
   "metadata": {},
   "outputs": [],
   "source": [
    "import torch\n",
    "import torch.nn as nn\n",
    "import torch.optim as optim\n",
    "from torch.utils.data import DataLoader, Dataset\n",
    "import numpy as np\n",
    "import torch.nn.functional as F\n",
    "from itertools import product\n",
    "import numpy as np\n",
    "import matplotlib.pyplot as plt\n",
    "from torch_geometric.data import Data, Batch\n",
    "from torch_geometric.nn import GCNConv, global_mean_pool"
   ]
  },
  {
   "cell_type": "code",
   "execution_count": 6,
   "metadata": {},
   "outputs": [],
   "source": [
    "num_cell_lines = 10\n",
    "num_pathways = 5\n",
    "num_genes = 15\n",
    "num_drugs = 7\n",
    "num_substructures = 12"
   ]
  },
  {
   "cell_type": "code",
   "execution_count": 4,
   "metadata": {},
   "outputs": [
    {
     "name": "stdout",
     "output_type": "stream",
     "text": [
      "CUDA is available: False\n"
     ]
    }
   ],
   "source": [
    "device = torch.device(\"cuda:0\" if torch.cuda.is_available() else \"cpu\")\n",
    "print(f\"CUDA is available: {torch.cuda.is_available()}\")"
   ]
  },
  {
   "cell_type": "markdown",
   "metadata": {},
   "source": [
    "# 1. 데이터"
   ]
  },
  {
   "cell_type": "markdown",
   "metadata": {},
   "source": [
    "### (1) Gene Embedding Dictionary \n",
    "Cell Line → gene embeddings (num_pathways, num_genes)"
   ]
  },
  {
   "cell_type": "code",
   "execution_count": 7,
   "metadata": {},
   "outputs": [
    {
     "data": {
      "text/plain": [
       "torch.Size([5, 15])"
      ]
     },
     "execution_count": 7,
     "metadata": {},
     "output_type": "execute_result"
    }
   ],
   "source": [
    "gene_embeddings = {\n",
    "    f\"DATA.{i}\": torch.rand(num_pathways, num_genes, dtype=torch.float32)\n",
    "    for i in range(num_cell_lines)\n",
    "}\n",
    "\n",
    "gene_embeddings['DATA.1'].shape"
   ]
  },
  {
   "cell_type": "markdown",
   "metadata": {},
   "source": [
    "### (2) Drug Embedding Dictionary\n",
    "CID → drug embeddings (num_substructures)"
   ]
  },
  {
   "cell_type": "code",
   "execution_count": 8,
   "metadata": {},
   "outputs": [
    {
     "data": {
      "text/plain": [
       "torch.Size([12])"
      ]
     },
     "execution_count": 8,
     "metadata": {},
     "output_type": "execute_result"
    }
   ],
   "source": [
    "drug_embeddings = {\n",
    "    f\"{i}\": torch.rand(num_substructures, dtype=torch.float32)\n",
    "    for i in range(num_drugs)\n",
    "}\n",
    "\n",
    "drug_embeddings['1'].shape"
   ]
  },
  {
   "cell_type": "markdown",
   "metadata": {},
   "source": [
    "### (3) Drug Graph Dictionary\n",
    "CID → drug graph (pytorch geomeric data)"
   ]
  },
  {
   "cell_type": "code",
   "execution_count": 9,
   "metadata": {},
   "outputs": [
    {
     "name": "stdout",
     "output_type": "stream",
     "text": [
      "Data(x=[12, 5], edge_index=[2, 12], global_ids=[12])\n"
     ]
    }
   ],
   "source": [
    "# Create dummy data for drug_graphs\n",
    "drug_graph_dict = {\n",
    "    f\"{i}\": Data(\n",
    "        x=torch.rand(num_substructures, 5),  # Node features\n",
    "        edge_index=torch.randint(0, num_substructures, (2, 12)),  # Random edges\n",
    "        global_ids=list(range(num_substructures))\n",
    "    )\n",
    "    for i in range(num_drugs)\n",
    "}\n",
    "\n",
    "print(drug_graph_dict['1'])"
   ]
  },
  {
   "cell_type": "markdown",
   "metadata": {},
   "source": [
    "## (4) Pathway Graph List\n",
    "pathway graph list (pytorch geometric data)"
   ]
  },
  {
   "cell_type": "code",
   "execution_count": 10,
   "metadata": {},
   "outputs": [
    {
     "name": "stdout",
     "output_type": "stream",
     "text": [
      "[Data(x=[15, 128], edge_index=[2, 15], global_ids=[15]), Data(x=[15, 128], edge_index=[2, 15], global_ids=[15]), Data(x=[15, 128], edge_index=[2, 15], global_ids=[15]), Data(x=[15, 128], edge_index=[2, 15], global_ids=[15]), Data(x=[15, 128], edge_index=[2, 15], global_ids=[15])]\n"
     ]
    }
   ],
   "source": [
    "# Create dummy data for pathway_graphs\n",
    "pathway_graph_list = [\n",
    "        Data(\n",
    "            x=torch.rand(num_genes, 128),  \n",
    "            edge_index=torch.randint(0, num_genes, (2, 15)), \n",
    "            global_ids=list(range(num_genes))\n",
    "        )\n",
    "        for _ in range(num_pathways)  \n",
    "]\n",
    "\n",
    "# Print an example pathway graph for pathway_1\n",
    "print(pathway_graph_list)"
   ]
  },
  {
   "cell_type": "code",
   "execution_count": 15,
   "metadata": {},
   "outputs": [],
   "source": [
    "# 모든 cell line과 drug의 조합 생성\n",
    "cell_lines = list(gene_embeddings.keys())\n",
    "drugs = list(drug_embeddings.keys())\n",
    "sample_indices = list(product(cell_lines, drugs)) \n",
    "\n",
    "# Cell line과 drug의 매핑\n",
    "cell_line_mapping = {key: idx for idx, key in enumerate(gene_embeddings.keys())}\n",
    "drug_mapping = {cid: idx for idx, cid in enumerate(drug_graph_dict.keys())}"
   ]
  },
  {
   "cell_type": "markdown",
   "metadata": {},
   "source": [
    "### (4) Labels"
   ]
  },
  {
   "cell_type": "code",
   "execution_count": 16,
   "metadata": {},
   "outputs": [
    {
     "name": "stdout",
     "output_type": "stream",
     "text": [
      "70\n"
     ]
    }
   ],
   "source": [
    "labels = torch.randint(0, 2, (num_cell_lines, num_drugs), dtype=torch.float32)\n",
    "\n",
    "def convert_labels_to_dict(labels_tensor, cell_line_mapping, drug_mapping):\n",
    "    labels_dict = {}\n",
    "    for cell_line_idx, cell_line_id in enumerate(cell_line_mapping.keys()):\n",
    "        for drug_idx, drug_id in enumerate(drug_mapping.keys()):\n",
    "            labels_dict[(cell_line_id, drug_id)] = labels_tensor[cell_line_idx, drug_idx].item()\n",
    "    return labels_dict\n",
    "\n",
    "# 딕셔너리로 라벨 변환\n",
    "labels_dict = convert_labels_to_dict(labels, cell_line_mapping, drug_mapping)\n",
    "\n",
    "print(len(labels_dict))"
   ]
  },
  {
   "cell_type": "markdown",
   "metadata": {},
   "source": [
    "# 2. Dataset"
   ]
  },
  {
   "cell_type": "code",
   "execution_count": 17,
   "metadata": {},
   "outputs": [],
   "source": [
    "class DrugResponseDataset(Dataset):\n",
    "    def __init__(self, gene_embeddings, pathway_graphs, substructure_embeddings, drug_graphs, labels, sample_indices):\n",
    "        \"\"\"\n",
    "        Args:\n",
    "            gene_embeddings (dict): {cell_line_id: Tensor}, Gene embeddings for each cell line.\n",
    "            drug_graphs (dict): List of PyTorch Geometric Data objects for each drug (indexed by drug_id).\n",
    "            substructure_embeddings (Tensor): [245, 193], Substructure embeddings for pathways.\n",
    "            labels (dict): {cell_line_id: Tensor}, Drug response labels for each cell line and drug pair.\n",
    "            sample_indices (list): [(cell_line_id, drug_idx)], List of cell line and drug index pairs.\n",
    "        \"\"\"\n",
    "        self.gene_embeddings = gene_embeddings  # {cell_line_id: [245, 231]}\n",
    "        self.pathway_graphs = pathway_graphs\n",
    "        self.drug_graphs = drug_graphs  # Drug graphs\n",
    "        self.substructure_embeddings = substructure_embeddings  # [170]\n",
    "        self.labels = labels  # {cell_line_id, drug_id : [1]}\n",
    "        self.sample_indices = sample_indices  # [(cell_line_id, drug_id)]\n",
    "\n",
    "\n",
    "    def __len__(self):\n",
    "        return len(self.sample_indices)\n",
    "\n",
    "    def __getitem__(self, idx):\n",
    "        cell_line_id, drug_id = self.sample_indices[idx]\n",
    "\n",
    "        # Gene embeddings for the cell line\n",
    "        gene_embedding = self.gene_embeddings[cell_line_id]  # [245, 231]\n",
    "        pathway_graph = self.pathway_graphs  # Pathway graphs\n",
    "\n",
    "        # Substructure embeddings for pathways\n",
    "        substructure_embedding = self.substructure_embeddings[drug_id]  # [1, 170]\n",
    "        drug_graph = self.drug_graphs[drug_id]  # Drug graphs\n",
    "\n",
    "        # Get the label for the cell line-drug pair\n",
    "        label = self.labels[cell_line_id, drug_id]  # Scalar\n",
    "\n",
    "        return {\n",
    "            'gene_embedding': gene_embedding,  # [245, 231]\n",
    "            'pathway_graph': pathway_graph,                     # List of PyTorch Geometric Data objects\n",
    "            'substructure_embedding': substructure_embedding,  # [245, 170]\n",
    "            'drug_graph': drug_graph,  # PyTorch Geometric Data object\n",
    "            'label': label  # Scalar\n",
    "        }"
   ]
  },
  {
   "cell_type": "code",
   "execution_count": 18,
   "metadata": {},
   "outputs": [],
   "source": [
    "from torch_geometric.data import Batch\n",
    "\n",
    "def collate_fn(batch):\n",
    "    gene_embeddings = []\n",
    "    substructure_embeddings = []\n",
    "    drug_graphs = []\n",
    "    labels = []\n",
    "    \n",
    "    for item in batch:\n",
    "        gene_embeddings.append(item['gene_embedding'])\n",
    "        substructure_embeddings.append(item['substructure_embedding'])\n",
    "        drug_graphs.append(item['drug_graph'])\n",
    "        labels.append(item['label'])\n",
    "\n",
    "    pathway_graph = batch[0]['pathway_graph'] \n",
    "    pathway_batch = Batch.from_data_list(pathway_graph)\n",
    "    drug_batch = Batch.from_data_list(drug_graphs)\n",
    "\n",
    "    return {\n",
    "        'gene_embeddings': torch.stack(gene_embeddings),  # [batch_size, num_pathways, num_genes]\n",
    "        'pathway_graphs': pathway_batch,  \n",
    "        'substructure_embeddings': torch.stack(substructure_embeddings),  # [batch_size, num_pathways, num_substructures]\n",
    "        'drug_graphs': drug_batch, # PyTorch Geometric Batch\n",
    "        'labels': torch.tensor(labels, dtype=torch.float32)  # [batch_size]\n",
    "    }"
   ]
  },
  {
   "cell_type": "code",
   "execution_count": 21,
   "metadata": {},
   "outputs": [
    {
     "name": "stdout",
     "output_type": "stream",
     "text": [
      "Datasets saved to .pt files.\n"
     ]
    }
   ],
   "source": [
    "from sklearn.model_selection import train_test_split\n",
    "\n",
    "# 데이터셋 분할 비율\n",
    "train_ratio = 0.8\n",
    "val_ratio = 0.1\n",
    "\n",
    "# Sample indices 분할\n",
    "train_indices, temp_indices = train_test_split(sample_indices, test_size=(1 - train_ratio), random_state=42)\n",
    "val_indices, test_indices = train_test_split(temp_indices, test_size=(1 - val_ratio / (1 - train_ratio)), random_state=42)\n",
    "\n",
    "# Helper 함수: 분할된 데이터셋에 필요한 정보만 필터링\n",
    "def filter_data(sample_indices, gene_embeddings, drug_graphs, substructure_embeddings, labels_dict):\n",
    "    filtered_gene_embeddings = {cell_line: gene_embeddings[cell_line] for cell_line, _ in sample_indices}\n",
    "    filtered_drug_graphs = {drug: drug_graphs[drug] for _, drug in sample_indices}\n",
    "    filtered_substructure_embeddings = {\n",
    "        drug: substructure_embeddings[drug] for _, drug in sample_indices\n",
    "    }\n",
    "    filtered_labels = {(cell_line, drug): labels_dict[(cell_line, drug)] for cell_line, drug in sample_indices}\n",
    "    return filtered_gene_embeddings, filtered_drug_graphs, filtered_substructure_embeddings, filtered_labels\n",
    "\n",
    "# Train 데이터 필터링\n",
    "train_gene_embeddings, train_drug_graphs, train_substructure_embeddings, train_labels = filter_data(\n",
    "    train_indices, gene_embeddings, drug_graph_dict, drug_embeddings, labels_dict\n",
    ")\n",
    "\n",
    "# Validation 데이터 필터링\n",
    "val_gene_embeddings, val_drug_graphs, val_substructure_embeddings, val_labels = filter_data(\n",
    "    val_indices, gene_embeddings, drug_graph_dict, drug_embeddings, labels_dict\n",
    ")\n",
    "\n",
    "# Test 데이터 필터링\n",
    "test_gene_embeddings, test_drug_graphs, test_substructure_embeddings, test_labels = filter_data(\n",
    "    test_indices, gene_embeddings, drug_graph_dict, drug_embeddings, labels_dict\n",
    ")\n",
    "\n",
    "torch.save({\n",
    "    'gene_embeddings': train_gene_embeddings,\n",
    "    'pathway_graphs': pathway_graph_list,\n",
    "    'substructure_embeddings': train_substructure_embeddings,\n",
    "    'drug_graphs': train_drug_graphs,\n",
    "    'labels': train_labels,\n",
    "    'sample_indices': train_indices,\n",
    "}, './dataset/train_dataset.pt')\n",
    "\n",
    "# Save validation data\n",
    "torch.save({\n",
    "    'gene_embeddings': val_gene_embeddings,\n",
    "    'pathway_graphs': pathway_graph_list,\n",
    "    'substructure_embeddings': val_substructure_embeddings,\n",
    "    'drug_graphs': val_drug_graphs,\n",
    "    'labels': val_labels,\n",
    "    'sample_indices': val_indices,\n",
    "}, './dataset/val_dataset.pt')\n",
    "\n",
    "# Save test data\n",
    "torch.save({\n",
    "    'gene_embeddings': test_gene_embeddings,\n",
    "    'pathway_graphs': pathway_graph_list,\n",
    "    'substructure_embeddings': test_substructure_embeddings,\n",
    "    'drug_graphs': test_drug_graphs,\n",
    "    'labels': test_labels,\n",
    "    'sample_indices': test_indices,\n",
    "}, './dataset/test_dataset.pt')\n",
    "\n",
    "print(\"Datasets saved to .pt files.\")\n",
    "\n"
   ]
  },
  {
   "cell_type": "code",
   "execution_count": null,
   "metadata": {},
   "outputs": [],
   "source": [
    "# 각 데이터셋 초기화\n",
    "train_dataset = DrugResponseDataset(\n",
    "    gene_embeddings=train_gene_embeddings,\n",
    "    pathway_graphs=pathway_graph_list,  # 공유되는 데이터\n",
    "    substructure_embeddings=train_substructure_embeddings,\n",
    "    drug_graphs=train_drug_graphs,\n",
    "    labels=train_labels,\n",
    "    sample_indices=train_indices,\n",
    ")\n",
    "\n",
    "val_dataset = DrugResponseDataset(\n",
    "    gene_embeddings=val_gene_embeddings,\n",
    "    pathway_graphs=pathway_graph_list,\n",
    "    substructure_embeddings=val_substructure_embeddings,\n",
    "    drug_graphs=val_drug_graphs,\n",
    "    labels=val_labels,\n",
    "    sample_indices=val_indices,\n",
    ")\n",
    "\n",
    "test_dataset = DrugResponseDataset(\n",
    "    gene_embeddings=test_gene_embeddings,\n",
    "    pathway_graphs=pathway_graph_list,\n",
    "    substructure_embeddings=test_substructure_embeddings,\n",
    "    drug_graphs=test_drug_graphs,\n",
    "    labels=test_labels,\n",
    "    sample_indices=test_indices,\n",
    ")\n",
    "\n",
    "# DataLoader 초기화\n",
    "train_loader = DataLoader(train_dataset, batch_size=8, shuffle=True, collate_fn=collate_fn)\n",
    "val_loader = DataLoader(val_dataset, batch_size=8, shuffle=False, collate_fn=collate_fn)\n",
    "test_loader = DataLoader(test_dataset, batch_size=8, shuffle=False, collate_fn=collate_fn)\n",
    "\n",
    "# 데이터 확인\n",
    "print(f\"Train set size: {len(train_dataset)}\")\n",
    "print(f\"Validation set size: {len(val_dataset)}\")\n",
    "print(f\"Test set size: {len(test_dataset)}\")"
   ]
  },
  {
   "cell_type": "code",
   "execution_count": 13,
   "metadata": {},
   "outputs": [
    {
     "name": "stdout",
     "output_type": "stream",
     "text": [
      "Batch gene embeddings: torch.Size([8, 5, 15])\n",
      "Batch pathway_graphs: DataBatch(x=[75, 128], edge_index=[2, 75], global_ids=[5], batch=[75], ptr=[6])\n",
      "Batch substructure embeddings: torch.Size([8, 12])\n",
      "Batch drug graphs: DataBatch(x=[96, 5], edge_index=[2, 96], global_ids=[8], batch=[96], ptr=[9])\n",
      "Batch labels: torch.Size([8])\n"
     ]
    }
   ],
   "source": [
    "# 데이터 확인\n",
    "for batch in train_loader:\n",
    "    print(f\"Batch gene embeddings: {batch['gene_embeddings'].shape}\")  # [batch_size, num_pathways, num_genes]\n",
    "    print(f\"Batch pathway_graphs: {batch['pathway_graphs']}\")  \n",
    "    print(f\"Batch substructure embeddings: {batch['substructure_embeddings'].shape}\")   # [batch_size, num_pathways, num_substructures]\n",
    "    print(f\"Batch drug graphs: {batch['drug_graphs']}\")  # PyTorch Geometric Batch\n",
    "    print(f\"Batch labels: {batch['labels'].shape}\")  # [batch_size]\n",
    "    break"
   ]
  },
  {
   "cell_type": "markdown",
   "metadata": {},
   "source": [
    "# 3. Model"
   ]
  },
  {
   "cell_type": "markdown",
   "metadata": {},
   "source": [
    "## (0) Embedding Layer\n",
    "### - GeneEmbeddingLayer : FloatTensor -> Linear\n",
    "### - SubstructureEmbeddingLayer : IntTensor -> nn.Embedding"
   ]
  },
  {
   "cell_type": "code",
   "execution_count": 14,
   "metadata": {},
   "outputs": [],
   "source": [
    "GENE_EMBEDDING_DIM = 128\n",
    "SUBSTRUCTURE_EMBEDDING_DIM = 128\n",
    "HIDDEN_DIM = 128\n",
    "FINAL_DIM = 64\n",
    "OUTPUT_DIM = 1"
   ]
  },
  {
   "cell_type": "code",
   "execution_count": 15,
   "metadata": {},
   "outputs": [],
   "source": [
    "class GeneEmbeddingLayer(nn.Module):\n",
    "    # In)  [BATCH_SIZE, NUM_PATHWAYS, NUM_GENES] \n",
    "    # Out) [BATCH_SIZE, NUM_PATHWAYS, NUM_GENES, GENE_EMBEDDING_DIM]\n",
    "\n",
    "    def __init__(self, num_genes, embedding_dim=GENE_EMBEDDING_DIM):\n",
    "        super(GeneEmbeddingLayer, self).__init__()\n",
    "        self.linear = nn.Linear(1, embedding_dim)  \n",
    "        self.num_genes = num_genes\n",
    "        \n",
    "    def forward(self, gene_values):\n",
    "        gene_values = gene_values.view(-1, 1) # [BATCH_SIZE * NUM_PATHWAYS * NUM_GENES, 1]\n",
    "        embedded_values = self.linear(gene_values)  # [BATCH_SIZE * NUM_PATHWAYS * NUM_GENES, GENE_EMBEDDING_DIM]\n",
    "        return embedded_values.view(-1, num_pathways, num_genes, GENE_EMBEDDING_DIM) \n",
    "\n",
    "class SubstructureEmbeddingLayer(nn.Module):\n",
    "    # In)  [BATCH_SIZE, NUM_SUBSTRUCTURES]\n",
    "    # Out) [BATCH_SIZE, NUM_SUBSTRUCTURES, SUBSTRUCTURES_EMBEDDING_DIM]\n",
    "    \n",
    "    def __init__(self, num_substructures, embedding_dim=SUBSTRUCTURE_EMBEDDING_DIM):\n",
    "        super(SubstructureEmbeddingLayer, self).__init__()\n",
    "        self.embedding = nn.Embedding(num_substructures, embedding_dim) # [NUM_SUBSTRUCTURES, SUBSTRUCTURES_EMBEDDING_DIM]\n",
    "\n",
    "    def forward(self, substructure_indices):\n",
    "        return self.embedding(substructure_indices) "
   ]
  },
  {
   "cell_type": "markdown",
   "metadata": {},
   "source": [
    "## (1) CrossAttention"
   ]
  },
  {
   "cell_type": "code",
   "execution_count": 16,
   "metadata": {},
   "outputs": [],
   "source": [
    "class CrossAttention(nn.Module):\n",
    "    def __init__(self, query_dim, key_dim):\n",
    "        super(CrossAttention, self).__init__()\n",
    "        self.query_layer = nn.Linear(query_dim, query_dim)  \n",
    "        self.key_layer = nn.Linear(key_dim, query_dim)      \n",
    "        self.value_layer = nn.Linear(key_dim, query_dim)    \n",
    "\n",
    "    def forward(self, query_embeddings, key_embeddings):\n",
    "        query = self.query_layer(query_embeddings) \n",
    "        key = self.key_layer(key_embeddings)        \n",
    "        value = self.value_layer(key_embeddings)   \n",
    "\n",
    "        # Attention Scores\n",
    "        attention_scores = torch.matmul(query, key.transpose(-1, -2))  \n",
    "        attention_weights = F.softmax(attention_scores, dim=-1)        \n",
    "\n",
    "        # Apply Attention\n",
    "        attended_embeddings = torch.matmul(attention_weights, value)  \n",
    "        \n",
    "        return attended_embeddings\n"
   ]
  },
  {
   "cell_type": "markdown",
   "metadata": {},
   "source": [
    "\n",
    "## (2) Graph Embedding"
   ]
  },
  {
   "cell_type": "code",
   "execution_count": 17,
   "metadata": {},
   "outputs": [],
   "source": [
    "class PathwayGraphEmbedding(nn.Module):\n",
    "    def __init__(self, input_dim, hidden_dim):\n",
    "        super(PathwayGraphEmbedding, self).__init__()\n",
    "        self.conv1 = GCNConv(input_dim, hidden_dim)\n",
    "        self.conv2 = GCNConv(hidden_dim, hidden_dim)\n",
    "\n",
    "    def forward(self, gene_emb, pathway_graph):\n",
    "        \"\"\"\n",
    "        Args:\n",
    "            gene_emb: Tensor of shape [BATCH_SIZE, NUM_GENES, 128]\n",
    "            pathway_graph: PyTorch Geometric Data object (single graph)\n",
    "        Returns:\n",
    "            graph_embeddings: Tensor of shape [BATCH_SIZE, NUM_PATHWAYS, EMBEDDING_DIM]\n",
    "        \"\"\"\n",
    "        batch_size = gene_emb.size(0)  # Extract batch size\n",
    "        global_ids = pathway_graph.global_ids  # Node IDs to update\n",
    "\n",
    "        # Repeat the graph `batch_size` times (데이터 자체에서 graph를 복사해서 넣어주면 삭제 가능하나 메모리 상황 보고 결정)\n",
    "        repeated_graphs = [pathway_graph.clone() for _ in range(batch_size)]\n",
    "        batched_graph = Batch.from_data_list(repeated_graphs)\n",
    "\n",
    "        # Update node features for all graphs\n",
    "        node_features = gene_emb[:, global_ids, :]  # Shape: [BATCH_SIZE, NUM_NODES, 128]\n",
    "        node_features = node_features.reshape(-1, node_features.size(-1))  # Flatten for all graphs\n",
    "        batched_graph.x = node_features  # Assign to graph\n",
    "\n",
    "        # GCN layers\n",
    "        x = F.relu(self.conv1(batched_graph.x, batched_graph.edge_index))\n",
    "        x = self.conv2(x, batched_graph.edge_index)\n",
    "\n",
    "        # Global mean pooling to aggregate graph embeddings\n",
    "        graph_embeddings = global_mean_pool(x, batched_graph.batch)  # Shape: [BATCH_SIZE, EMBEDDING_DIM]\n",
    "        \n",
    "        return graph_embeddings\n",
    "\n",
    "\n",
    "class DrugGraphEmbedding(nn.Module):\n",
    "    def __init__(self, input_dim, hidden_dim):\n",
    "        super(DrugGraphEmbedding, self).__init__()\n",
    "        self.conv1 = GCNConv(input_dim, hidden_dim)\n",
    "        self.conv2 = GCNConv(hidden_dim, hidden_dim)\n",
    "\n",
    "    def forward(self, drug_graph, drug_graph_embedding):\n",
    "        \"\"\"\n",
    "        Args:\n",
    "            drug_graph (Batch): Batched PyTorch Geometric Data object.\n",
    "            drug_graph_embedding (Tensor): [BATCH_SIZE, NUM_PATHWAYS, NUM_SUBSTRUCTURES, EMBEDDING_DIM]\n",
    "        \"\"\"\n",
    "        all_node_features = []\n",
    "        updated_node_features = torch.mean(drug_graph_embedding, dim=1)  # [BATCH_SIZE, NUM_SUBSTRUCTURES, SUBSTRUCTURE_EMBEDDING_DIM]\n",
    "\n",
    "        # Batch Loop\n",
    "        for batch_idx in range(updated_node_features.size(0)):  \n",
    "            # Get global IDs and node indices\n",
    "            global_ids = drug_graph[batch_idx].global_ids  \n",
    "            node_indices = torch.where(drug_graph.batch == batch_idx)[0]\n",
    "\n",
    "            # Ensure global_ids and node_indices match in length\n",
    "            assert len(global_ids) == len(node_indices), \"Mismatch between global IDs and node indices length\"\n",
    "\n",
    "            # Update node features for the current batch\n",
    "            node_features = torch.zeros((len(node_indices), updated_node_features.size(-1)), device=updated_node_features.device)\n",
    "            for local_idx, global_id in enumerate(global_ids):\n",
    "                if global_id < updated_node_features.size(1):\n",
    "                    node_features[local_idx] = updated_node_features[batch_idx, global_id]\n",
    "\n",
    "            # Append the current batch's node features to the list\n",
    "            all_node_features.append(node_features)\n",
    "\n",
    "        # updated node features from all batches\n",
    "        new_node_features = torch.cat(all_node_features, dim=0)  # Shape: [TOTAL_NUM_NODES, EMBEDDING_DIM]\n",
    "        drug_graph.x = new_node_features\n",
    "\n",
    "        # GCN layers\n",
    "        x = self.conv1(drug_graph.x, drug_graph.edge_index)\n",
    "        x = F.relu(x)\n",
    "        x = self.conv2(x, drug_graph.edge_index)\n",
    "\n",
    "        # Perform global mean pooling\n",
    "        graph_embedding = global_mean_pool(x, drug_graph.batch)  # Shape: [BATCH_SIZE, HIDDEN_DIM]\n",
    "        \n",
    "        return graph_embedding\n",
    "\n",
    "\n"
   ]
  },
  {
   "cell_type": "markdown",
   "metadata": {},
   "source": [
    "## (3) DrugResponseModel"
   ]
  },
  {
   "cell_type": "code",
   "execution_count": 18,
   "metadata": {},
   "outputs": [],
   "source": [
    "import torch\n",
    "import torch.nn as nn\n",
    "\n",
    "class DrugResponseModel(nn.Module):\n",
    "    def __init__(self, num_genes, num_substructures, hidden_dim, final_dim):\n",
    "        super(DrugResponseModel, self).__init__()\n",
    "        self.gene_embedding_layer = GeneEmbeddingLayer(num_genes, GENE_EMBEDDING_DIM)\n",
    "        self.substructure_embedding_layer = SubstructureEmbeddingLayer(num_substructures, SUBSTRUCTURE_EMBEDDING_DIM)\n",
    "        \n",
    "        self.Gene2Sub_cross_attention = CrossAttention(query_dim=GENE_EMBEDDING_DIM, key_dim=SUBSTRUCTURE_EMBEDDING_DIM)\n",
    "        self.Sub2Gene_cross_attention = CrossAttention(query_dim=SUBSTRUCTURE_EMBEDDING_DIM, key_dim=GENE_EMBEDDING_DIM)\n",
    "\n",
    "        self.pathway_graph = PathwayGraphEmbedding(GENE_EMBEDDING_DIM, hidden_dim)\n",
    "        self.drug_graph = DrugGraphEmbedding(SUBSTRUCTURE_EMBEDDING_DIM, hidden_dim)\n",
    "\n",
    "        self.fc1 = nn.Linear(GENE_EMBEDDING_DIM + hidden_dim, final_dim)\n",
    "        self.fc2 = nn.Linear(final_dim, OUTPUT_DIM)\n",
    "        self.sigmoid = nn.Sigmoid()\n",
    "\n",
    "    def forward(self, gene_embeddings, pathway_graphs, substructure_embeddings, drug_graphs):\n",
    "        # Gene and Substructure Embeddings\n",
    "        substructure_embeddings = substructure_embeddings.int()  \n",
    "        gene_embeddings = self.gene_embedding_layer(gene_embeddings)  # [Batch, Pathway, Gene, Embedding_dim]\n",
    "        substructure_embeddings = self.substructure_embedding_layer(substructure_embeddings)  # [Batch, Substructure, Embedding_dim]\n",
    "\n",
    "        print(substructure_embeddings.shape)\n",
    "\n",
    "        # Cross Attention (Vectorized)\n",
    "        gene_query = self.Gene2Sub_cross_attention(gene_embeddings, substructure_embeddings)  # [Batch, Pathway, Gene, Embedding_dim]\n",
    "        sub_query = self.Sub2Gene_cross_attention(substructure_embeddings, gene_embeddings)  # [Batch, Substructure, Embedding_dim]\n",
    "\n",
    "        # Graph Embedding Loop for Pathways\n",
    "        # IN) 하나의 Pathway에 대한 Gene Embedding [Batch, Gene, Embedding_dim]\n",
    "        #                        Pathway Graph [Pytorch Geometric Data]\n",
    "        # OUT) Pathway Graph Embedding [Batch, Embedding_dim] → [Batch, Pathway, Embedding_dim]\n",
    "        pathway_graph_embeddings = torch.stack([\n",
    "            self.pathway_graph(gene_query[:, i, :, :], pathway_graphs[i])\n",
    "            for i in range(gene_query.size(1))\n",
    "        ], dim=1)\n",
    "\n",
    "\n",
    "        # Combine embeddings\n",
    "        final_pathway_embedding = torch.mean(pathway_graph_embeddings, dim=1)  # [Batch, Embedding_dim]\n",
    "        final_drug_embedding = self.drug_graph(drug_graphs, sub_query)  # [Batch, hidden_dim]\n",
    "\n",
    "        # Concatenate and Predict\n",
    "        combined_embedding = torch.cat((final_pathway_embedding, final_drug_embedding), dim=-1)  # [B, Dg + H]\n",
    "\n",
    "        x = self.fc1(combined_embedding)\n",
    "        x = self.fc2(x)\n",
    "\n",
    "        return self.sigmoid(x)\n"
   ]
  },
  {
   "cell_type": "markdown",
   "metadata": {},
   "source": [
    "# 4. Initialization"
   ]
  },
  {
   "cell_type": "code",
   "execution_count": 19,
   "metadata": {},
   "outputs": [
    {
     "name": "stdout",
     "output_type": "stream",
     "text": [
      "Model device: cuda:0\n",
      "CUDA is available: True\n"
     ]
    }
   ],
   "source": [
    "model = DrugResponseModel(num_genes, num_substructures, HIDDEN_DIM, FINAL_DIM)\n",
    "model = model.to(device)\n",
    "criterion = nn.BCELoss()\n",
    "optimizer = optim.Adam(model.parameters(), lr=0.001)\n",
    "\n",
    "print(f\"Model device: {next(model.parameters()).device}\")\n",
    "print(f\"CUDA is available: {torch.cuda.is_available()}\")"
   ]
  },
  {
   "cell_type": "markdown",
   "metadata": {},
   "source": [
    "# 5. Train"
   ]
  },
  {
   "cell_type": "code",
   "execution_count": 20,
   "metadata": {},
   "outputs": [
    {
     "name": "stdout",
     "output_type": "stream",
     "text": [
      "torch.Size([8, 12, 128])\n"
     ]
    },
    {
     "ename": "RuntimeError",
     "evalue": "The size of tensor a (5) must match the size of tensor b (8) at non-singleton dimension 1",
     "output_type": "error",
     "traceback": [
      "\u001b[0;31m---------------------------------------------------------------------------\u001b[0m",
      "\u001b[0;31mRuntimeError\u001b[0m                              Traceback (most recent call last)",
      "Cell \u001b[0;32mIn[20], line 24\u001b[0m\n\u001b[1;32m     21\u001b[0m labels \u001b[38;5;241m=\u001b[39m batch[\u001b[38;5;124m'\u001b[39m\u001b[38;5;124mlabels\u001b[39m\u001b[38;5;124m'\u001b[39m]\u001b[38;5;241m.\u001b[39mto(device)\n\u001b[1;32m     23\u001b[0m optimizer\u001b[38;5;241m.\u001b[39mzero_grad()\n\u001b[0;32m---> 24\u001b[0m outputs \u001b[38;5;241m=\u001b[39m \u001b[43mmodel\u001b[49m\u001b[43m(\u001b[49m\u001b[43mgene_embeddings\u001b[49m\u001b[43m,\u001b[49m\u001b[43m \u001b[49m\u001b[43mpathway_graphs\u001b[49m\u001b[43m,\u001b[49m\u001b[43m \u001b[49m\u001b[43msubstructure_embeddings\u001b[49m\u001b[43m,\u001b[49m\u001b[43m \u001b[49m\u001b[43mdrug_graphs\u001b[49m\u001b[43m)\u001b[49m\n\u001b[1;32m     25\u001b[0m loss \u001b[38;5;241m=\u001b[39m criterion(outputs\u001b[38;5;241m.\u001b[39msqueeze(), labels)\n\u001b[1;32m     26\u001b[0m loss\u001b[38;5;241m.\u001b[39mbackward()\n",
      "File \u001b[0;32m/data/project/yewon/anaconda/envs/drTrain/lib/python3.8/site-packages/torch/nn/modules/module.py:1553\u001b[0m, in \u001b[0;36mModule._wrapped_call_impl\u001b[0;34m(self, *args, **kwargs)\u001b[0m\n\u001b[1;32m   1551\u001b[0m     \u001b[38;5;28;01mreturn\u001b[39;00m \u001b[38;5;28mself\u001b[39m\u001b[38;5;241m.\u001b[39m_compiled_call_impl(\u001b[38;5;241m*\u001b[39margs, \u001b[38;5;241m*\u001b[39m\u001b[38;5;241m*\u001b[39mkwargs)  \u001b[38;5;66;03m# type: ignore[misc]\u001b[39;00m\n\u001b[1;32m   1552\u001b[0m \u001b[38;5;28;01melse\u001b[39;00m:\n\u001b[0;32m-> 1553\u001b[0m     \u001b[38;5;28;01mreturn\u001b[39;00m \u001b[38;5;28;43mself\u001b[39;49m\u001b[38;5;241;43m.\u001b[39;49m\u001b[43m_call_impl\u001b[49m\u001b[43m(\u001b[49m\u001b[38;5;241;43m*\u001b[39;49m\u001b[43margs\u001b[49m\u001b[43m,\u001b[49m\u001b[43m \u001b[49m\u001b[38;5;241;43m*\u001b[39;49m\u001b[38;5;241;43m*\u001b[39;49m\u001b[43mkwargs\u001b[49m\u001b[43m)\u001b[49m\n",
      "File \u001b[0;32m/data/project/yewon/anaconda/envs/drTrain/lib/python3.8/site-packages/torch/nn/modules/module.py:1562\u001b[0m, in \u001b[0;36mModule._call_impl\u001b[0;34m(self, *args, **kwargs)\u001b[0m\n\u001b[1;32m   1557\u001b[0m \u001b[38;5;66;03m# If we don't have any hooks, we want to skip the rest of the logic in\u001b[39;00m\n\u001b[1;32m   1558\u001b[0m \u001b[38;5;66;03m# this function, and just call forward.\u001b[39;00m\n\u001b[1;32m   1559\u001b[0m \u001b[38;5;28;01mif\u001b[39;00m \u001b[38;5;129;01mnot\u001b[39;00m (\u001b[38;5;28mself\u001b[39m\u001b[38;5;241m.\u001b[39m_backward_hooks \u001b[38;5;129;01mor\u001b[39;00m \u001b[38;5;28mself\u001b[39m\u001b[38;5;241m.\u001b[39m_backward_pre_hooks \u001b[38;5;129;01mor\u001b[39;00m \u001b[38;5;28mself\u001b[39m\u001b[38;5;241m.\u001b[39m_forward_hooks \u001b[38;5;129;01mor\u001b[39;00m \u001b[38;5;28mself\u001b[39m\u001b[38;5;241m.\u001b[39m_forward_pre_hooks\n\u001b[1;32m   1560\u001b[0m         \u001b[38;5;129;01mor\u001b[39;00m _global_backward_pre_hooks \u001b[38;5;129;01mor\u001b[39;00m _global_backward_hooks\n\u001b[1;32m   1561\u001b[0m         \u001b[38;5;129;01mor\u001b[39;00m _global_forward_hooks \u001b[38;5;129;01mor\u001b[39;00m _global_forward_pre_hooks):\n\u001b[0;32m-> 1562\u001b[0m     \u001b[38;5;28;01mreturn\u001b[39;00m \u001b[43mforward_call\u001b[49m\u001b[43m(\u001b[49m\u001b[38;5;241;43m*\u001b[39;49m\u001b[43margs\u001b[49m\u001b[43m,\u001b[49m\u001b[43m \u001b[49m\u001b[38;5;241;43m*\u001b[39;49m\u001b[38;5;241;43m*\u001b[39;49m\u001b[43mkwargs\u001b[49m\u001b[43m)\u001b[49m\n\u001b[1;32m   1564\u001b[0m \u001b[38;5;28;01mtry\u001b[39;00m:\n\u001b[1;32m   1565\u001b[0m     result \u001b[38;5;241m=\u001b[39m \u001b[38;5;28;01mNone\u001b[39;00m\n",
      "Cell \u001b[0;32mIn[18], line 29\u001b[0m, in \u001b[0;36mDrugResponseModel.forward\u001b[0;34m(self, gene_embeddings, pathway_graphs, substructure_embeddings, drug_graphs)\u001b[0m\n\u001b[1;32m     26\u001b[0m \u001b[38;5;28mprint\u001b[39m(substructure_embeddings\u001b[38;5;241m.\u001b[39mshape)\n\u001b[1;32m     28\u001b[0m \u001b[38;5;66;03m# Cross Attention (Vectorized)\u001b[39;00m\n\u001b[0;32m---> 29\u001b[0m gene_query \u001b[38;5;241m=\u001b[39m \u001b[38;5;28;43mself\u001b[39;49m\u001b[38;5;241;43m.\u001b[39;49m\u001b[43mGene2Sub_cross_attention\u001b[49m\u001b[43m(\u001b[49m\u001b[43mgene_embeddings\u001b[49m\u001b[43m,\u001b[49m\u001b[43m \u001b[49m\u001b[43msubstructure_embeddings\u001b[49m\u001b[43m)\u001b[49m  \u001b[38;5;66;03m# [Batch, Pathway, Gene, Embedding_dim]\u001b[39;00m\n\u001b[1;32m     30\u001b[0m sub_query \u001b[38;5;241m=\u001b[39m \u001b[38;5;28mself\u001b[39m\u001b[38;5;241m.\u001b[39mSub2Gene_cross_attention(substructure_embeddings, gene_embeddings)  \u001b[38;5;66;03m# [Batch, Pathway, Substructure, Embedding_dim]\u001b[39;00m\n\u001b[1;32m     32\u001b[0m \u001b[38;5;66;03m# Graph Embedding Loop for Pathways\u001b[39;00m\n\u001b[1;32m     33\u001b[0m \u001b[38;5;66;03m# IN) 하나의 Pathway에 대한 Gene Embedding [Batch, Gene, Embedding_dim]\u001b[39;00m\n\u001b[1;32m     34\u001b[0m \u001b[38;5;66;03m#                        Pathway Graph [Pytorch Geometric Data]\u001b[39;00m\n\u001b[1;32m     35\u001b[0m \u001b[38;5;66;03m# OUT) Pathway Graph Embedding [Batch, Embedding_dim] → [Batch, Pathway, Embedding_dim]\u001b[39;00m\n",
      "File \u001b[0;32m/data/project/yewon/anaconda/envs/drTrain/lib/python3.8/site-packages/torch/nn/modules/module.py:1553\u001b[0m, in \u001b[0;36mModule._wrapped_call_impl\u001b[0;34m(self, *args, **kwargs)\u001b[0m\n\u001b[1;32m   1551\u001b[0m     \u001b[38;5;28;01mreturn\u001b[39;00m \u001b[38;5;28mself\u001b[39m\u001b[38;5;241m.\u001b[39m_compiled_call_impl(\u001b[38;5;241m*\u001b[39margs, \u001b[38;5;241m*\u001b[39m\u001b[38;5;241m*\u001b[39mkwargs)  \u001b[38;5;66;03m# type: ignore[misc]\u001b[39;00m\n\u001b[1;32m   1552\u001b[0m \u001b[38;5;28;01melse\u001b[39;00m:\n\u001b[0;32m-> 1553\u001b[0m     \u001b[38;5;28;01mreturn\u001b[39;00m \u001b[38;5;28;43mself\u001b[39;49m\u001b[38;5;241;43m.\u001b[39;49m\u001b[43m_call_impl\u001b[49m\u001b[43m(\u001b[49m\u001b[38;5;241;43m*\u001b[39;49m\u001b[43margs\u001b[49m\u001b[43m,\u001b[49m\u001b[43m \u001b[49m\u001b[38;5;241;43m*\u001b[39;49m\u001b[38;5;241;43m*\u001b[39;49m\u001b[43mkwargs\u001b[49m\u001b[43m)\u001b[49m\n",
      "File \u001b[0;32m/data/project/yewon/anaconda/envs/drTrain/lib/python3.8/site-packages/torch/nn/modules/module.py:1562\u001b[0m, in \u001b[0;36mModule._call_impl\u001b[0;34m(self, *args, **kwargs)\u001b[0m\n\u001b[1;32m   1557\u001b[0m \u001b[38;5;66;03m# If we don't have any hooks, we want to skip the rest of the logic in\u001b[39;00m\n\u001b[1;32m   1558\u001b[0m \u001b[38;5;66;03m# this function, and just call forward.\u001b[39;00m\n\u001b[1;32m   1559\u001b[0m \u001b[38;5;28;01mif\u001b[39;00m \u001b[38;5;129;01mnot\u001b[39;00m (\u001b[38;5;28mself\u001b[39m\u001b[38;5;241m.\u001b[39m_backward_hooks \u001b[38;5;129;01mor\u001b[39;00m \u001b[38;5;28mself\u001b[39m\u001b[38;5;241m.\u001b[39m_backward_pre_hooks \u001b[38;5;129;01mor\u001b[39;00m \u001b[38;5;28mself\u001b[39m\u001b[38;5;241m.\u001b[39m_forward_hooks \u001b[38;5;129;01mor\u001b[39;00m \u001b[38;5;28mself\u001b[39m\u001b[38;5;241m.\u001b[39m_forward_pre_hooks\n\u001b[1;32m   1560\u001b[0m         \u001b[38;5;129;01mor\u001b[39;00m _global_backward_pre_hooks \u001b[38;5;129;01mor\u001b[39;00m _global_backward_hooks\n\u001b[1;32m   1561\u001b[0m         \u001b[38;5;129;01mor\u001b[39;00m _global_forward_hooks \u001b[38;5;129;01mor\u001b[39;00m _global_forward_pre_hooks):\n\u001b[0;32m-> 1562\u001b[0m     \u001b[38;5;28;01mreturn\u001b[39;00m \u001b[43mforward_call\u001b[49m\u001b[43m(\u001b[49m\u001b[38;5;241;43m*\u001b[39;49m\u001b[43margs\u001b[49m\u001b[43m,\u001b[49m\u001b[43m \u001b[49m\u001b[38;5;241;43m*\u001b[39;49m\u001b[38;5;241;43m*\u001b[39;49m\u001b[43mkwargs\u001b[49m\u001b[43m)\u001b[49m\n\u001b[1;32m   1564\u001b[0m \u001b[38;5;28;01mtry\u001b[39;00m:\n\u001b[1;32m   1565\u001b[0m     result \u001b[38;5;241m=\u001b[39m \u001b[38;5;28;01mNone\u001b[39;00m\n",
      "Cell \u001b[0;32mIn[16], line 14\u001b[0m, in \u001b[0;36mCrossAttention.forward\u001b[0;34m(self, query_embeddings, key_embeddings)\u001b[0m\n\u001b[1;32m     11\u001b[0m value \u001b[38;5;241m=\u001b[39m \u001b[38;5;28mself\u001b[39m\u001b[38;5;241m.\u001b[39mvalue_layer(key_embeddings)   \n\u001b[1;32m     13\u001b[0m \u001b[38;5;66;03m# Attention Scores\u001b[39;00m\n\u001b[0;32m---> 14\u001b[0m attention_scores \u001b[38;5;241m=\u001b[39m \u001b[43mtorch\u001b[49m\u001b[38;5;241;43m.\u001b[39;49m\u001b[43mmatmul\u001b[49m\u001b[43m(\u001b[49m\u001b[43mquery\u001b[49m\u001b[43m,\u001b[49m\u001b[43m \u001b[49m\u001b[43mkey\u001b[49m\u001b[38;5;241;43m.\u001b[39;49m\u001b[43mtranspose\u001b[49m\u001b[43m(\u001b[49m\u001b[38;5;241;43m-\u001b[39;49m\u001b[38;5;241;43m1\u001b[39;49m\u001b[43m,\u001b[49m\u001b[43m \u001b[49m\u001b[38;5;241;43m-\u001b[39;49m\u001b[38;5;241;43m2\u001b[39;49m\u001b[43m)\u001b[49m\u001b[43m)\u001b[49m  \n\u001b[1;32m     15\u001b[0m attention_weights \u001b[38;5;241m=\u001b[39m F\u001b[38;5;241m.\u001b[39msoftmax(attention_scores, dim\u001b[38;5;241m=\u001b[39m\u001b[38;5;241m-\u001b[39m\u001b[38;5;241m1\u001b[39m)        \n\u001b[1;32m     17\u001b[0m \u001b[38;5;66;03m# Apply Attention\u001b[39;00m\n",
      "\u001b[0;31mRuntimeError\u001b[0m: The size of tensor a (5) must match the size of tensor b (8) at non-singleton dimension 1"
     ]
    }
   ],
   "source": [
    "# Training Loop with Validation and Metrics\n",
    "train_losses = []\n",
    "val_losses = []\n",
    "train_accuracies = []\n",
    "val_accuracies = []\n",
    "\n",
    "num_epochs = 100\n",
    "\n",
    "for epoch in range(num_epochs):\n",
    "    # Training Phase\n",
    "    model.train()\n",
    "    total_train_loss = 0\n",
    "    correct_train_preds = 0\n",
    "    total_train_samples = 0\n",
    "\n",
    "    for batch in train_loader:\n",
    "        gene_embeddings = batch['gene_embeddings'].to(device)\n",
    "        pathway_graphs =  batch['pathway_graphs'].to(device)\n",
    "        substructure_embeddings = batch['substructure_embeddings'].to(device)\n",
    "        drug_graphs = batch['drug_graphs'].to(device)\n",
    "        labels = batch['labels'].to(device)\n",
    "\n",
    "        optimizer.zero_grad()\n",
    "        outputs = model(gene_embeddings, pathway_graphs, substructure_embeddings, drug_graphs)\n",
    "        loss = criterion(outputs.squeeze(), labels)\n",
    "        loss.backward()\n",
    "        optimizer.step()\n",
    "\n",
    "        total_train_loss += loss.item()\n",
    "\n",
    "        # Accuracy Calculation\n",
    "        preds = (outputs.squeeze() > 0.5).long()  # Binary classification threshold\n",
    "        correct_train_preds += (preds == labels).sum().item()\n",
    "        total_train_samples += labels.size(0)\n",
    "\n",
    "    train_loss = total_train_loss / len(train_loader)\n",
    "    train_accuracy = correct_train_preds / total_train_samples\n",
    "    train_losses.append(train_loss)\n",
    "    train_accuracies.append(train_accuracy)\n",
    "\n",
    "    # Validation Phase\n",
    "    model.eval()\n",
    "    total_val_loss = 0\n",
    "    correct_val_preds = 0\n",
    "    total_val_samples = 0\n",
    "\n",
    "    with torch.no_grad():\n",
    "        for batch in val_loader:\n",
    "            gene_embeddings = batch['gene_embeddings'].to(device)\n",
    "            pathway_graphs =  batch['pathway_graphs'].to(device)\n",
    "            substructure_embeddings = batch['substructure_embeddings'].to(device)\n",
    "            drug_graphs = batch['drug_graphs'].to(device)\n",
    "            labels = batch['labels'].to(device)\n",
    "\n",
    "            outputs = model(gene_embeddings, pathway_graphs, substructure_embeddings, drug_graphs)\n",
    "            loss = criterion(outputs.squeeze(), labels)\n",
    "            total_val_loss += loss.item()\n",
    "\n",
    "            # Accuracy Calculation\n",
    "            preds = (outputs.squeeze() > 0.5).long()\n",
    "            correct_val_preds += (preds == labels).sum().item()\n",
    "            total_val_samples += labels.size(0)\n",
    "\n",
    "    val_loss = total_val_loss / len(val_loader)\n",
    "    val_accuracy = correct_val_preds / total_val_samples\n",
    "    val_losses.append(val_loss)\n",
    "    val_accuracies.append(val_accuracy)\n",
    "\n",
    "    print(f\"Epoch [{epoch+1}/{num_epochs}]\")\n",
    "    print(f\"Train Loss: {train_loss:.4f}, Train Accuracy: {train_accuracy:.4f}\")\n",
    "    print(f\"Val Loss: {val_loss:.4f}, Val Accuracy: {val_accuracy:.4f}\")"
   ]
  },
  {
   "cell_type": "markdown",
   "metadata": {},
   "source": [
    "# 6. Test"
   ]
  },
  {
   "cell_type": "code",
   "execution_count": 21,
   "metadata": {},
   "outputs": [
    {
     "name": "stdout",
     "output_type": "stream",
     "text": [
      "gene_embeddings :  torch.Size([8, 5, 15, 128]) substructure_embeddings :  torch.Size([8, 5, 12, 128])\n"
     ]
    },
    {
     "name": "stdout",
     "output_type": "stream",
     "text": [
      "gene_embeddings :  torch.Size([4, 5, 15, 128]) substructure_embeddings :  torch.Size([4, 5, 12, 128])\n",
      "\n",
      "Test Results:\n",
      "Test Loss: 0.6682, Test Accuracy: 0.4167\n"
     ]
    }
   ],
   "source": [
    "# Test Phase\n",
    "model.eval()\n",
    "total_test_loss = 0\n",
    "correct_test_preds = 0\n",
    "total_test_samples = 0\n",
    "\n",
    "with torch.no_grad():\n",
    "    for batch in test_loader:\n",
    "        gene_embeddings = batch['gene_embeddings'].to(device)\n",
    "        pathway_graphs =  batch['pathway_graphs'].to(device)\n",
    "        substructure_embeddings = batch['substructure_embeddings'].to(device)\n",
    "        drug_graphs = batch['drug_graphs'].to(device)\n",
    "        labels = batch['labels'].to(device)\n",
    "\n",
    "        # Forward pass\n",
    "        outputs = model(gene_embeddings, pathway_graphs, substructure_embeddings, drug_graphs)\n",
    "        loss = criterion(outputs.squeeze(), labels)\n",
    "        total_test_loss += loss.item()\n",
    "\n",
    "        # Accuracy Calculation\n",
    "        preds = (outputs.squeeze() > 0.5).long()  # Binary classification threshold\n",
    "        correct_test_preds += (preds == labels).sum().item()\n",
    "        total_test_samples += labels.size(0)\n",
    "\n",
    "test_loss = total_test_loss / len(test_loader)\n",
    "test_accuracy = correct_test_preds / total_test_samples\n",
    "\n",
    "print(\"\\nTest Results:\")\n",
    "print(f\"Test Loss: {test_loss:.4f}, Test Accuracy: {test_accuracy:.4f}\")\n"
   ]
  },
  {
   "cell_type": "markdown",
   "metadata": {},
   "source": [
    "# 7. Results"
   ]
  },
  {
   "cell_type": "code",
   "execution_count": 22,
   "metadata": {},
   "outputs": [
    {
     "data": {
      "image/png": "[encoded data removed]",
      "text/plain": [
       "<Figure size 640x480 with 1 Axes>"
      ]
     },
     "metadata": {},
     "output_type": "display_data"
    },
    {
     "data": {
      "image/png": "[encoded data removed]",
      "text/plain": [
       "<Figure size 640x480 with 1 Axes>"
      ]
     },
     "metadata": {},
     "output_type": "display_data"
    }
   ],
   "source": [
    "import matplotlib.pyplot as plt\n",
    "\n",
    "# Plot Train and Validation Loss\n",
    "plt.figure()\n",
    "plt.plot(train_losses, label='Train Loss')\n",
    "plt.plot(val_losses, label='Validation Loss')\n",
    "plt.xlabel('Epoch')\n",
    "plt.ylabel('Loss')\n",
    "plt.legend()\n",
    "plt.title('Loss per Epoch')\n",
    "plt.show()\n",
    "\n",
    "# Plot Train and Validation Accuracy\n",
    "plt.figure()\n",
    "plt.plot(train_accuracies, label='Train Accuracy')\n",
    "plt.plot(val_accuracies, label='Validation Accuracy')\n",
    "plt.xlabel('Epoch')\n",
    "plt.ylabel('Accuracy')\n",
    "plt.legend()\n",
    "plt.title('Accuracy per Epoch')\n",
    "plt.show()"
   ]
  }
 ],
 "metadata": {
  "kernelspec": {
   "display_name": "drTrain",
   "language": "python",
   "name": "python3"
  },
  "language_info": {
   "codemirror_mode": {
    "name": "ipython",
    "version": 3
   },
   "file_extension": ".py",
   "mimetype": "text/x-python",
   "name": "python",
   "nbconvert_exporter": "python",
   "pygments_lexer": "ipython3",
   "version": "3.12.8"
  }
 },
 "nbformat": 4,
 "nbformat_minor": 2
}
